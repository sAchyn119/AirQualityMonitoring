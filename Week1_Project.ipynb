{
 "cells": [
  {
   "cell_type": "markdown",
   "id": "5151b77e",
   "metadata": {},
   "source": [
    "# Week 1 Project - Environmental Monitoring & Pollution Control\n",
    "### Theme: Air Quality Monitoring using AI/ML\n",
    "This notebook explores an Air Quality dataset (city_day.csv)."
   ]
  },
  {
   "cell_type": "code",
   "execution_count": null,
   "id": "3707f01a",
   "metadata": {},
   "outputs": [],
   "source": [
    "# Step 1: Import necessary libraries\n",
    "import pandas as pd\n",
    "import numpy as np"
   ]
  },
  {
   "cell_type": "code",
   "execution_count": null,
   "id": "2d28739e",
   "metadata": {},
   "outputs": [],
   "source": [
    "# Step 2: Load the dataset\n",
    "# (Make sure city_day.csv is in the same folder as this notebook)\n",
    "df = pd.read_csv(\"city_day.csv\")\n",
    "df.head()"
   ]
  },
  {
   "cell_type": "code",
   "execution_count": null,
   "id": "e660cf18",
   "metadata": {},
   "outputs": [],
   "source": [
    "# Step 3: Explore the dataset\n",
    "\n",
    "print(\"------ Dataset Info ------\")\n",
    "print(df.info())"
   ]
  },
  {
   "cell_type": "code",
   "execution_count": null,
   "id": "6fd7b308",
   "metadata": {},
   "outputs": [],
   "source": [
    "print(\"\\n------ Summary Statistics ------\")\n",
    "print(df.describe())"
   ]
  },
  {
   "cell_type": "code",
   "execution_count": null,
   "id": "96aa3b5c",
   "metadata": {},
   "outputs": [],
   "source": [
    "print(\"\\n------ Missing Values ------\")\n",
    "print(df.isnull().sum())"
   ]
  },
  {
   "cell_type": "code",
   "execution_count": null,
   "id": "4b24a2e0",
   "metadata": {},
   "outputs": [],
   "source": [
    "# Optional: Show first 5 rows\n",
    "print(\"\\n------ Sample Data ------\")\n",
    "print(df.head())"
   ]
  }
 ],
 "metadata": {},
 "nbformat": 4,
 "nbformat_minor": 5
}